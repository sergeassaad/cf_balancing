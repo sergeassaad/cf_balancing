{
 "cells": [
  {
   "cell_type": "code",
   "execution_count": 1,
   "metadata": {},
   "outputs": [],
   "source": [
    "import numpy as np\n",
    "import pandas as pd\n",
    "import matplotlib.pyplot as plt"
   ]
  },
  {
   "cell_type": "markdown",
   "metadata": {},
   "source": [
    "# load results_summary.txt file"
   ]
  },
  {
   "cell_type": "code",
   "execution_count": 2,
   "metadata": {},
   "outputs": [],
   "source": [
    "results_name = \"/media/common/toy/results_summary.txt\"\n",
    "configs_name = \"/media/common/toy/configs_sorted.txt\"\n",
    "results_file = open(results_name,'r+')\n",
    "results_lines= results_file.read().splitlines()"
   ]
  },
  {
   "cell_type": "code",
   "execution_count": 3,
   "metadata": {},
   "outputs": [],
   "source": [
    "metrics = results_lines[3].split('|')[1:]\n",
    "col_names = [m.strip() for m in metrics]\n",
    "col_names_all = []\n",
    "for i,name in enumerate(col_names):\n",
    "    col_names_all.append(name)\n",
    "    col_names_all.append(name+'_stderr')\n",
    "col_names_all.insert(0,'idx')"
   ]
  },
  {
   "cell_type": "code",
   "execution_count": 4,
   "metadata": {},
   "outputs": [
    {
     "data": {
      "text/plain": [
       "['idx',\n",
       " 'Pehe',\n",
       " 'Pehe_stderr',\n",
       " 'Bias_ate',\n",
       " 'Bias_ate_stderr',\n",
       " 'Rmse_fact',\n",
       " 'Rmse_fact_stderr',\n",
       " 'Rmse_ite',\n",
       " 'Rmse_ite_stderr',\n",
       " 'Objective',\n",
       " 'Objective_stderr',\n",
       " 'Pehe_nn',\n",
       " 'Pehe_nn_stderr',\n",
       " 'Bias_ate_IPW',\n",
       " 'Bias_ate_IPW_stderr',\n",
       " 'Bias_ate_TIPW',\n",
       " 'Bias_ate_TIPW_stderr',\n",
       " 'Bias_ate_MW',\n",
       " 'Bias_ate_MW_stderr',\n",
       " 'Bias_ate_OW',\n",
       " 'Bias_ate_OW_stderr',\n",
       " 'Pehe_IPW',\n",
       " 'Pehe_IPW_stderr',\n",
       " 'Pehe_TIPW',\n",
       " 'Pehe_TIPW_stderr',\n",
       " 'Pehe_MW',\n",
       " 'Pehe_MW_stderr',\n",
       " 'Pehe_OW',\n",
       " 'Pehe_OW_stderr']"
      ]
     },
     "execution_count": 4,
     "metadata": {},
     "output_type": "execute_result"
    }
   ],
   "source": [
    "col_names_all"
   ]
  },
  {
   "cell_type": "code",
   "execution_count": 5,
   "metadata": {},
   "outputs": [],
   "source": [
    "breaks = []\n",
    "for i,line in enumerate(results_lines):\n",
    "    if(line==''):\n",
    "        breaks.append(i)\n",
    "\n",
    "train_idx = range(5,breaks[0])\n",
    "val_idx = range(breaks[0]+4,breaks[1])\n",
    "test_idx = range(breaks[1]+4,breaks[2])\n",
    "\n",
    "train_results = [results_lines[i] for i in train_idx]\n",
    "val_results = [results_lines[i] for i in val_idx]\n",
    "test_results = [results_lines[i] for i in test_idx]"
   ]
  },
  {
   "cell_type": "code",
   "execution_count": 6,
   "metadata": {},
   "outputs": [
    {
     "data": {
      "text/plain": [
       "(1080, 1080, 1080)"
      ]
     },
     "execution_count": 6,
     "metadata": {},
     "output_type": "execute_result"
    }
   ],
   "source": [
    "len(train_results),len(val_results),len(test_results)"
   ]
  },
  {
   "cell_type": "code",
   "execution_count": 7,
   "metadata": {},
   "outputs": [],
   "source": [
    "def process_result(result):\n",
    "    result_processed = []\n",
    "    result_arr = result.split('|')\n",
    "    result_processed.append(int(result_arr[0].strip()))\n",
    "    for r in result_arr[1:]:\n",
    "        arr = r.split('(')\n",
    "        result_processed.append(float(arr[0].strip()))\n",
    "        result_processed.append(float(arr[1].split(')')[0]))\n",
    "    return result_processed"
   ]
  },
  {
   "cell_type": "code",
   "execution_count": 8,
   "metadata": {},
   "outputs": [],
   "source": [
    "def make_df(col_names_all,results):\n",
    "    d = []\n",
    "    for result in train_results:\n",
    "        arr = process_result(result)\n",
    "        d.append(arr)\n",
    "    return pd.DataFrame(d,columns=col_names_all)"
   ]
  },
  {
   "cell_type": "code",
   "execution_count": 9,
   "metadata": {},
   "outputs": [],
   "source": [
    "train_df = make_df(col_names_all,train_results)\n",
    "val_df = make_df(col_names_all,val_results)\n",
    "test_df = make_df(col_names_all,test_results)"
   ]
  },
  {
   "cell_type": "code",
   "execution_count": 10,
   "metadata": {},
   "outputs": [
    {
     "data": {
      "text/html": [
       "<div>\n",
       "<style scoped>\n",
       "    .dataframe tbody tr th:only-of-type {\n",
       "        vertical-align: middle;\n",
       "    }\n",
       "\n",
       "    .dataframe tbody tr th {\n",
       "        vertical-align: top;\n",
       "    }\n",
       "\n",
       "    .dataframe thead th {\n",
       "        text-align: right;\n",
       "    }\n",
       "</style>\n",
       "<table border=\"1\" class=\"dataframe\">\n",
       "  <thead>\n",
       "    <tr style=\"text-align: right;\">\n",
       "      <th></th>\n",
       "      <th>idx</th>\n",
       "      <th>Pehe</th>\n",
       "      <th>Pehe_stderr</th>\n",
       "      <th>Bias_ate</th>\n",
       "      <th>Bias_ate_stderr</th>\n",
       "      <th>Rmse_fact</th>\n",
       "      <th>Rmse_fact_stderr</th>\n",
       "      <th>Rmse_ite</th>\n",
       "      <th>Rmse_ite_stderr</th>\n",
       "      <th>Objective</th>\n",
       "      <th>...</th>\n",
       "      <th>Bias_ate_OW</th>\n",
       "      <th>Bias_ate_OW_stderr</th>\n",
       "      <th>Pehe_IPW</th>\n",
       "      <th>Pehe_IPW_stderr</th>\n",
       "      <th>Pehe_TIPW</th>\n",
       "      <th>Pehe_TIPW_stderr</th>\n",
       "      <th>Pehe_MW</th>\n",
       "      <th>Pehe_MW_stderr</th>\n",
       "      <th>Pehe_OW</th>\n",
       "      <th>Pehe_OW_stderr</th>\n",
       "    </tr>\n",
       "  </thead>\n",
       "  <tbody>\n",
       "    <tr>\n",
       "      <th>0</th>\n",
       "      <td>704</td>\n",
       "      <td>0.256</td>\n",
       "      <td>0.023</td>\n",
       "      <td>0.178</td>\n",
       "      <td>0.036</td>\n",
       "      <td>1.012</td>\n",
       "      <td>0.007</td>\n",
       "      <td>1.035</td>\n",
       "      <td>0.008</td>\n",
       "      <td>1.309</td>\n",
       "      <td>...</td>\n",
       "      <td>NaN</td>\n",
       "      <td>NaN</td>\n",
       "      <td>NaN</td>\n",
       "      <td>NaN</td>\n",
       "      <td>NaN</td>\n",
       "      <td>NaN</td>\n",
       "      <td>NaN</td>\n",
       "      <td>NaN</td>\n",
       "      <td>NaN</td>\n",
       "      <td>NaN</td>\n",
       "    </tr>\n",
       "    <tr>\n",
       "      <th>1</th>\n",
       "      <td>274</td>\n",
       "      <td>0.205</td>\n",
       "      <td>0.012</td>\n",
       "      <td>0.105</td>\n",
       "      <td>0.027</td>\n",
       "      <td>1.000</td>\n",
       "      <td>0.006</td>\n",
       "      <td>1.013</td>\n",
       "      <td>0.006</td>\n",
       "      <td>1.088</td>\n",
       "      <td>...</td>\n",
       "      <td>NaN</td>\n",
       "      <td>NaN</td>\n",
       "      <td>NaN</td>\n",
       "      <td>NaN</td>\n",
       "      <td>NaN</td>\n",
       "      <td>NaN</td>\n",
       "      <td>NaN</td>\n",
       "      <td>NaN</td>\n",
       "      <td>NaN</td>\n",
       "      <td>NaN</td>\n",
       "    </tr>\n",
       "    <tr>\n",
       "      <th>2</th>\n",
       "      <td>208</td>\n",
       "      <td>0.193</td>\n",
       "      <td>0.014</td>\n",
       "      <td>0.100</td>\n",
       "      <td>0.027</td>\n",
       "      <td>1.001</td>\n",
       "      <td>0.006</td>\n",
       "      <td>1.012</td>\n",
       "      <td>0.007</td>\n",
       "      <td>0.577</td>\n",
       "      <td>...</td>\n",
       "      <td>0.101</td>\n",
       "      <td>0.027</td>\n",
       "      <td>0.193</td>\n",
       "      <td>0.014</td>\n",
       "      <td>0.193</td>\n",
       "      <td>0.014</td>\n",
       "      <td>0.189</td>\n",
       "      <td>0.014</td>\n",
       "      <td>0.191</td>\n",
       "      <td>0.014</td>\n",
       "    </tr>\n",
       "    <tr>\n",
       "      <th>3</th>\n",
       "      <td>859</td>\n",
       "      <td>0.193</td>\n",
       "      <td>0.014</td>\n",
       "      <td>0.100</td>\n",
       "      <td>0.027</td>\n",
       "      <td>1.001</td>\n",
       "      <td>0.006</td>\n",
       "      <td>1.012</td>\n",
       "      <td>0.007</td>\n",
       "      <td>0.577</td>\n",
       "      <td>...</td>\n",
       "      <td>0.101</td>\n",
       "      <td>0.027</td>\n",
       "      <td>0.193</td>\n",
       "      <td>0.014</td>\n",
       "      <td>0.193</td>\n",
       "      <td>0.014</td>\n",
       "      <td>0.189</td>\n",
       "      <td>0.014</td>\n",
       "      <td>0.191</td>\n",
       "      <td>0.014</td>\n",
       "    </tr>\n",
       "    <tr>\n",
       "      <th>4</th>\n",
       "      <td>126</td>\n",
       "      <td>0.181</td>\n",
       "      <td>0.012</td>\n",
       "      <td>0.074</td>\n",
       "      <td>0.021</td>\n",
       "      <td>0.992</td>\n",
       "      <td>0.006</td>\n",
       "      <td>1.006</td>\n",
       "      <td>0.006</td>\n",
       "      <td>2.161</td>\n",
       "      <td>...</td>\n",
       "      <td>0.075</td>\n",
       "      <td>0.021</td>\n",
       "      <td>0.181</td>\n",
       "      <td>0.012</td>\n",
       "      <td>0.181</td>\n",
       "      <td>0.012</td>\n",
       "      <td>0.176</td>\n",
       "      <td>0.011</td>\n",
       "      <td>0.179</td>\n",
       "      <td>0.011</td>\n",
       "    </tr>\n",
       "  </tbody>\n",
       "</table>\n",
       "<p>5 rows × 29 columns</p>\n",
       "</div>"
      ],
      "text/plain": [
       "   idx   Pehe  Pehe_stderr  Bias_ate  Bias_ate_stderr  Rmse_fact  \\\n",
       "0  704  0.256        0.023     0.178            0.036      1.012   \n",
       "1  274  0.205        0.012     0.105            0.027      1.000   \n",
       "2  208  0.193        0.014     0.100            0.027      1.001   \n",
       "3  859  0.193        0.014     0.100            0.027      1.001   \n",
       "4  126  0.181        0.012     0.074            0.021      0.992   \n",
       "\n",
       "   Rmse_fact_stderr  Rmse_ite  Rmse_ite_stderr  Objective  ...  Bias_ate_OW  \\\n",
       "0             0.007     1.035            0.008      1.309  ...          NaN   \n",
       "1             0.006     1.013            0.006      1.088  ...          NaN   \n",
       "2             0.006     1.012            0.007      0.577  ...        0.101   \n",
       "3             0.006     1.012            0.007      0.577  ...        0.101   \n",
       "4             0.006     1.006            0.006      2.161  ...        0.075   \n",
       "\n",
       "   Bias_ate_OW_stderr  Pehe_IPW  Pehe_IPW_stderr  Pehe_TIPW  Pehe_TIPW_stderr  \\\n",
       "0                 NaN       NaN              NaN        NaN               NaN   \n",
       "1                 NaN       NaN              NaN        NaN               NaN   \n",
       "2               0.027     0.193            0.014      0.193             0.014   \n",
       "3               0.027     0.193            0.014      0.193             0.014   \n",
       "4               0.021     0.181            0.012      0.181             0.012   \n",
       "\n",
       "   Pehe_MW  Pehe_MW_stderr  Pehe_OW  Pehe_OW_stderr  \n",
       "0      NaN             NaN      NaN             NaN  \n",
       "1      NaN             NaN      NaN             NaN  \n",
       "2    0.189           0.014    0.191           0.014  \n",
       "3    0.189           0.014    0.191           0.014  \n",
       "4    0.176           0.011    0.179           0.011  \n",
       "\n",
       "[5 rows x 29 columns]"
      ]
     },
     "execution_count": 10,
     "metadata": {},
     "output_type": "execute_result"
    }
   ],
   "source": [
    "train_df.head()"
   ]
  },
  {
   "cell_type": "markdown",
   "metadata": {},
   "source": [
    "# load configs_sorted.txt file"
   ]
  },
  {
   "cell_type": "code",
   "execution_count": 11,
   "metadata": {},
   "outputs": [],
   "source": [
    "configs_name = \"/media/common/toy/configs_sorted.txt\"\n",
    "configs_file = open(configs_name,'r+')\n",
    "configs_lines= configs_file.read().splitlines()"
   ]
  },
  {
   "cell_type": "code",
   "execution_count": 12,
   "metadata": {},
   "outputs": [],
   "source": [
    "def process_config(config):\n",
    "    arr = config.split(',')\n",
    "    d = {}\n",
    "    for el in arr:\n",
    "        k,v = el.split('=')\n",
    "        try:\n",
    "            v = float(v)\n",
    "        except:\n",
    "            v = v\n",
    "        d[k.strip()] = v\n",
    "    return d\n",
    "\n",
    "l = []\n",
    "for config in configs_lines:\n",
    "    l.append(list(process_config(config).values()))\n",
    "    \n",
    "l = list(map(list, zip(*l)))"
   ]
  },
  {
   "cell_type": "code",
   "execution_count": 13,
   "metadata": {},
   "outputs": [],
   "source": [
    "col_names = list(process_config(configs_lines[0]).keys())"
   ]
  },
  {
   "cell_type": "code",
   "execution_count": 14,
   "metadata": {},
   "outputs": [
    {
     "data": {
      "text/plain": [
       "['datadir', 'p_alpha', 'weight_scheme']"
      ]
     },
     "execution_count": 14,
     "metadata": {},
     "output_type": "execute_result"
    }
   ],
   "source": [
    "col_names"
   ]
  },
  {
   "cell_type": "code",
   "execution_count": 15,
   "metadata": {},
   "outputs": [],
   "source": [
    "for i,el in enumerate(l):\n",
    "    train_df[col_names[i]] = el\n",
    "    val_df[col_names[i]] = el\n",
    "    test_df[col_names[i]] = el"
   ]
  },
  {
   "cell_type": "code",
   "execution_count": 16,
   "metadata": {},
   "outputs": [
    {
     "data": {
      "text/html": [
       "<div>\n",
       "<style scoped>\n",
       "    .dataframe tbody tr th:only-of-type {\n",
       "        vertical-align: middle;\n",
       "    }\n",
       "\n",
       "    .dataframe tbody tr th {\n",
       "        vertical-align: top;\n",
       "    }\n",
       "\n",
       "    .dataframe thead th {\n",
       "        text-align: right;\n",
       "    }\n",
       "</style>\n",
       "<table border=\"1\" class=\"dataframe\">\n",
       "  <thead>\n",
       "    <tr style=\"text-align: right;\">\n",
       "      <th></th>\n",
       "      <th>idx</th>\n",
       "      <th>Pehe</th>\n",
       "      <th>Pehe_stderr</th>\n",
       "      <th>Bias_ate</th>\n",
       "      <th>Bias_ate_stderr</th>\n",
       "      <th>Rmse_fact</th>\n",
       "      <th>Rmse_fact_stderr</th>\n",
       "      <th>Rmse_ite</th>\n",
       "      <th>Rmse_ite_stderr</th>\n",
       "      <th>Objective</th>\n",
       "      <th>...</th>\n",
       "      <th>Pehe_IPW_stderr</th>\n",
       "      <th>Pehe_TIPW</th>\n",
       "      <th>Pehe_TIPW_stderr</th>\n",
       "      <th>Pehe_MW</th>\n",
       "      <th>Pehe_MW_stderr</th>\n",
       "      <th>Pehe_OW</th>\n",
       "      <th>Pehe_OW_stderr</th>\n",
       "      <th>datadir</th>\n",
       "      <th>p_alpha</th>\n",
       "      <th>weight_scheme</th>\n",
       "    </tr>\n",
       "  </thead>\n",
       "  <tbody>\n",
       "    <tr>\n",
       "      <th>0</th>\n",
       "      <td>704</td>\n",
       "      <td>0.256</td>\n",
       "      <td>0.023</td>\n",
       "      <td>0.178</td>\n",
       "      <td>0.036</td>\n",
       "      <td>1.012</td>\n",
       "      <td>0.007</td>\n",
       "      <td>1.035</td>\n",
       "      <td>0.008</td>\n",
       "      <td>1.309</td>\n",
       "      <td>...</td>\n",
       "      <td>NaN</td>\n",
       "      <td>NaN</td>\n",
       "      <td>NaN</td>\n",
       "      <td>NaN</td>\n",
       "      <td>NaN</td>\n",
       "      <td>NaN</td>\n",
       "      <td>NaN</td>\n",
       "      <td>../datasets/toy_data/C_0.5/</td>\n",
       "      <td>10.0</td>\n",
       "      <td>JW</td>\n",
       "    </tr>\n",
       "    <tr>\n",
       "      <th>1</th>\n",
       "      <td>274</td>\n",
       "      <td>0.205</td>\n",
       "      <td>0.012</td>\n",
       "      <td>0.105</td>\n",
       "      <td>0.027</td>\n",
       "      <td>1.000</td>\n",
       "      <td>0.006</td>\n",
       "      <td>1.013</td>\n",
       "      <td>0.006</td>\n",
       "      <td>1.088</td>\n",
       "      <td>...</td>\n",
       "      <td>NaN</td>\n",
       "      <td>NaN</td>\n",
       "      <td>NaN</td>\n",
       "      <td>NaN</td>\n",
       "      <td>NaN</td>\n",
       "      <td>NaN</td>\n",
       "      <td>NaN</td>\n",
       "      <td>../datasets/toy_data/C_0.0/</td>\n",
       "      <td>10.0</td>\n",
       "      <td>JW</td>\n",
       "    </tr>\n",
       "    <tr>\n",
       "      <th>2</th>\n",
       "      <td>208</td>\n",
       "      <td>0.193</td>\n",
       "      <td>0.014</td>\n",
       "      <td>0.100</td>\n",
       "      <td>0.027</td>\n",
       "      <td>1.001</td>\n",
       "      <td>0.006</td>\n",
       "      <td>1.012</td>\n",
       "      <td>0.007</td>\n",
       "      <td>0.577</td>\n",
       "      <td>...</td>\n",
       "      <td>0.014</td>\n",
       "      <td>0.193</td>\n",
       "      <td>0.014</td>\n",
       "      <td>0.189</td>\n",
       "      <td>0.014</td>\n",
       "      <td>0.191</td>\n",
       "      <td>0.014</td>\n",
       "      <td>../datasets/toy_data/A_0.0/</td>\n",
       "      <td>10.0</td>\n",
       "      <td>OW</td>\n",
       "    </tr>\n",
       "    <tr>\n",
       "      <th>3</th>\n",
       "      <td>859</td>\n",
       "      <td>0.193</td>\n",
       "      <td>0.014</td>\n",
       "      <td>0.100</td>\n",
       "      <td>0.027</td>\n",
       "      <td>1.001</td>\n",
       "      <td>0.006</td>\n",
       "      <td>1.012</td>\n",
       "      <td>0.007</td>\n",
       "      <td>0.577</td>\n",
       "      <td>...</td>\n",
       "      <td>0.014</td>\n",
       "      <td>0.193</td>\n",
       "      <td>0.014</td>\n",
       "      <td>0.189</td>\n",
       "      <td>0.014</td>\n",
       "      <td>0.191</td>\n",
       "      <td>0.014</td>\n",
       "      <td>../datasets/toy_data/B_0.0/</td>\n",
       "      <td>10.0</td>\n",
       "      <td>OW</td>\n",
       "    </tr>\n",
       "    <tr>\n",
       "      <th>4</th>\n",
       "      <td>126</td>\n",
       "      <td>0.181</td>\n",
       "      <td>0.012</td>\n",
       "      <td>0.074</td>\n",
       "      <td>0.021</td>\n",
       "      <td>0.992</td>\n",
       "      <td>0.006</td>\n",
       "      <td>1.006</td>\n",
       "      <td>0.006</td>\n",
       "      <td>2.161</td>\n",
       "      <td>...</td>\n",
       "      <td>0.012</td>\n",
       "      <td>0.181</td>\n",
       "      <td>0.012</td>\n",
       "      <td>0.176</td>\n",
       "      <td>0.011</td>\n",
       "      <td>0.179</td>\n",
       "      <td>0.011</td>\n",
       "      <td>../datasets/toy_data/B_0.0/</td>\n",
       "      <td>10.0</td>\n",
       "      <td>ParetoIPW</td>\n",
       "    </tr>\n",
       "  </tbody>\n",
       "</table>\n",
       "<p>5 rows × 32 columns</p>\n",
       "</div>"
      ],
      "text/plain": [
       "   idx   Pehe  Pehe_stderr  Bias_ate  Bias_ate_stderr  Rmse_fact  \\\n",
       "0  704  0.256        0.023     0.178            0.036      1.012   \n",
       "1  274  0.205        0.012     0.105            0.027      1.000   \n",
       "2  208  0.193        0.014     0.100            0.027      1.001   \n",
       "3  859  0.193        0.014     0.100            0.027      1.001   \n",
       "4  126  0.181        0.012     0.074            0.021      0.992   \n",
       "\n",
       "   Rmse_fact_stderr  Rmse_ite  Rmse_ite_stderr  Objective  ...  \\\n",
       "0             0.007     1.035            0.008      1.309  ...   \n",
       "1             0.006     1.013            0.006      1.088  ...   \n",
       "2             0.006     1.012            0.007      0.577  ...   \n",
       "3             0.006     1.012            0.007      0.577  ...   \n",
       "4             0.006     1.006            0.006      2.161  ...   \n",
       "\n",
       "   Pehe_IPW_stderr  Pehe_TIPW  Pehe_TIPW_stderr  Pehe_MW  Pehe_MW_stderr  \\\n",
       "0              NaN        NaN               NaN      NaN             NaN   \n",
       "1              NaN        NaN               NaN      NaN             NaN   \n",
       "2            0.014      0.193             0.014    0.189           0.014   \n",
       "3            0.014      0.193             0.014    0.189           0.014   \n",
       "4            0.012      0.181             0.012    0.176           0.011   \n",
       "\n",
       "   Pehe_OW  Pehe_OW_stderr                      datadir  p_alpha  \\\n",
       "0      NaN             NaN  ../datasets/toy_data/C_0.5/     10.0   \n",
       "1      NaN             NaN  ../datasets/toy_data/C_0.0/     10.0   \n",
       "2    0.191           0.014  ../datasets/toy_data/A_0.0/     10.0   \n",
       "3    0.191           0.014  ../datasets/toy_data/B_0.0/     10.0   \n",
       "4    0.179           0.011  ../datasets/toy_data/B_0.0/     10.0   \n",
       "\n",
       "   weight_scheme  \n",
       "0             JW  \n",
       "1             JW  \n",
       "2             OW  \n",
       "3             OW  \n",
       "4      ParetoIPW  \n",
       "\n",
       "[5 rows x 32 columns]"
      ]
     },
     "execution_count": 16,
     "metadata": {},
     "output_type": "execute_result"
    }
   ],
   "source": [
    "train_df.head()"
   ]
  },
  {
   "cell_type": "code",
   "execution_count": 17,
   "metadata": {},
   "outputs": [],
   "source": [
    "def add_sc_gamma(df):\n",
    "    datadirs = df['datadir']\n",
    "    l = []\n",
    "    for d in datadirs:\n",
    "        sc_gamma = d.split('/')[-2]\n",
    "        sc = sc_gamma.split('_')[0]\n",
    "        gamma = float(sc_gamma.split('_')[1])\n",
    "        l.append([sc,gamma])\n",
    "        \n",
    "    l = list(map(list, zip(*l)))\n",
    "    df['sc'] = l[0]\n",
    "    df['gamma'] = l[1]"
   ]
  },
  {
   "cell_type": "code",
   "execution_count": 18,
   "metadata": {},
   "outputs": [],
   "source": [
    "add_sc_gamma(train_df)\n",
    "add_sc_gamma(val_df)\n",
    "add_sc_gamma(test_df)"
   ]
  },
  {
   "cell_type": "code",
   "execution_count": 19,
   "metadata": {},
   "outputs": [
    {
     "data": {
      "text/html": [
       "<div>\n",
       "<style scoped>\n",
       "    .dataframe tbody tr th:only-of-type {\n",
       "        vertical-align: middle;\n",
       "    }\n",
       "\n",
       "    .dataframe tbody tr th {\n",
       "        vertical-align: top;\n",
       "    }\n",
       "\n",
       "    .dataframe thead th {\n",
       "        text-align: right;\n",
       "    }\n",
       "</style>\n",
       "<table border=\"1\" class=\"dataframe\">\n",
       "  <thead>\n",
       "    <tr style=\"text-align: right;\">\n",
       "      <th></th>\n",
       "      <th>idx</th>\n",
       "      <th>Pehe</th>\n",
       "      <th>Pehe_stderr</th>\n",
       "      <th>Bias_ate</th>\n",
       "      <th>Bias_ate_stderr</th>\n",
       "      <th>Rmse_fact</th>\n",
       "      <th>Rmse_fact_stderr</th>\n",
       "      <th>Rmse_ite</th>\n",
       "      <th>Rmse_ite_stderr</th>\n",
       "      <th>Objective</th>\n",
       "      <th>...</th>\n",
       "      <th>Pehe_TIPW_stderr</th>\n",
       "      <th>Pehe_MW</th>\n",
       "      <th>Pehe_MW_stderr</th>\n",
       "      <th>Pehe_OW</th>\n",
       "      <th>Pehe_OW_stderr</th>\n",
       "      <th>datadir</th>\n",
       "      <th>p_alpha</th>\n",
       "      <th>weight_scheme</th>\n",
       "      <th>sc</th>\n",
       "      <th>gamma</th>\n",
       "    </tr>\n",
       "  </thead>\n",
       "  <tbody>\n",
       "    <tr>\n",
       "      <th>0</th>\n",
       "      <td>704</td>\n",
       "      <td>0.256</td>\n",
       "      <td>0.023</td>\n",
       "      <td>0.178</td>\n",
       "      <td>0.036</td>\n",
       "      <td>1.012</td>\n",
       "      <td>0.007</td>\n",
       "      <td>1.035</td>\n",
       "      <td>0.008</td>\n",
       "      <td>1.309</td>\n",
       "      <td>...</td>\n",
       "      <td>NaN</td>\n",
       "      <td>NaN</td>\n",
       "      <td>NaN</td>\n",
       "      <td>NaN</td>\n",
       "      <td>NaN</td>\n",
       "      <td>../datasets/toy_data/C_0.5/</td>\n",
       "      <td>10.0</td>\n",
       "      <td>JW</td>\n",
       "      <td>C</td>\n",
       "      <td>0.5</td>\n",
       "    </tr>\n",
       "    <tr>\n",
       "      <th>1</th>\n",
       "      <td>274</td>\n",
       "      <td>0.205</td>\n",
       "      <td>0.012</td>\n",
       "      <td>0.105</td>\n",
       "      <td>0.027</td>\n",
       "      <td>1.000</td>\n",
       "      <td>0.006</td>\n",
       "      <td>1.013</td>\n",
       "      <td>0.006</td>\n",
       "      <td>1.088</td>\n",
       "      <td>...</td>\n",
       "      <td>NaN</td>\n",
       "      <td>NaN</td>\n",
       "      <td>NaN</td>\n",
       "      <td>NaN</td>\n",
       "      <td>NaN</td>\n",
       "      <td>../datasets/toy_data/C_0.0/</td>\n",
       "      <td>10.0</td>\n",
       "      <td>JW</td>\n",
       "      <td>C</td>\n",
       "      <td>0.0</td>\n",
       "    </tr>\n",
       "    <tr>\n",
       "      <th>2</th>\n",
       "      <td>208</td>\n",
       "      <td>0.193</td>\n",
       "      <td>0.014</td>\n",
       "      <td>0.100</td>\n",
       "      <td>0.027</td>\n",
       "      <td>1.001</td>\n",
       "      <td>0.006</td>\n",
       "      <td>1.012</td>\n",
       "      <td>0.007</td>\n",
       "      <td>0.577</td>\n",
       "      <td>...</td>\n",
       "      <td>0.014</td>\n",
       "      <td>0.189</td>\n",
       "      <td>0.014</td>\n",
       "      <td>0.191</td>\n",
       "      <td>0.014</td>\n",
       "      <td>../datasets/toy_data/A_0.0/</td>\n",
       "      <td>10.0</td>\n",
       "      <td>OW</td>\n",
       "      <td>A</td>\n",
       "      <td>0.0</td>\n",
       "    </tr>\n",
       "    <tr>\n",
       "      <th>3</th>\n",
       "      <td>859</td>\n",
       "      <td>0.193</td>\n",
       "      <td>0.014</td>\n",
       "      <td>0.100</td>\n",
       "      <td>0.027</td>\n",
       "      <td>1.001</td>\n",
       "      <td>0.006</td>\n",
       "      <td>1.012</td>\n",
       "      <td>0.007</td>\n",
       "      <td>0.577</td>\n",
       "      <td>...</td>\n",
       "      <td>0.014</td>\n",
       "      <td>0.189</td>\n",
       "      <td>0.014</td>\n",
       "      <td>0.191</td>\n",
       "      <td>0.014</td>\n",
       "      <td>../datasets/toy_data/B_0.0/</td>\n",
       "      <td>10.0</td>\n",
       "      <td>OW</td>\n",
       "      <td>B</td>\n",
       "      <td>0.0</td>\n",
       "    </tr>\n",
       "    <tr>\n",
       "      <th>4</th>\n",
       "      <td>126</td>\n",
       "      <td>0.181</td>\n",
       "      <td>0.012</td>\n",
       "      <td>0.074</td>\n",
       "      <td>0.021</td>\n",
       "      <td>0.992</td>\n",
       "      <td>0.006</td>\n",
       "      <td>1.006</td>\n",
       "      <td>0.006</td>\n",
       "      <td>2.161</td>\n",
       "      <td>...</td>\n",
       "      <td>0.012</td>\n",
       "      <td>0.176</td>\n",
       "      <td>0.011</td>\n",
       "      <td>0.179</td>\n",
       "      <td>0.011</td>\n",
       "      <td>../datasets/toy_data/B_0.0/</td>\n",
       "      <td>10.0</td>\n",
       "      <td>ParetoIPW</td>\n",
       "      <td>B</td>\n",
       "      <td>0.0</td>\n",
       "    </tr>\n",
       "  </tbody>\n",
       "</table>\n",
       "<p>5 rows × 34 columns</p>\n",
       "</div>"
      ],
      "text/plain": [
       "   idx   Pehe  Pehe_stderr  Bias_ate  Bias_ate_stderr  Rmse_fact  \\\n",
       "0  704  0.256        0.023     0.178            0.036      1.012   \n",
       "1  274  0.205        0.012     0.105            0.027      1.000   \n",
       "2  208  0.193        0.014     0.100            0.027      1.001   \n",
       "3  859  0.193        0.014     0.100            0.027      1.001   \n",
       "4  126  0.181        0.012     0.074            0.021      0.992   \n",
       "\n",
       "   Rmse_fact_stderr  Rmse_ite  Rmse_ite_stderr  Objective  ...  \\\n",
       "0             0.007     1.035            0.008      1.309  ...   \n",
       "1             0.006     1.013            0.006      1.088  ...   \n",
       "2             0.006     1.012            0.007      0.577  ...   \n",
       "3             0.006     1.012            0.007      0.577  ...   \n",
       "4             0.006     1.006            0.006      2.161  ...   \n",
       "\n",
       "   Pehe_TIPW_stderr  Pehe_MW  Pehe_MW_stderr  Pehe_OW  Pehe_OW_stderr  \\\n",
       "0               NaN      NaN             NaN      NaN             NaN   \n",
       "1               NaN      NaN             NaN      NaN             NaN   \n",
       "2             0.014    0.189           0.014    0.191           0.014   \n",
       "3             0.014    0.189           0.014    0.191           0.014   \n",
       "4             0.012    0.176           0.011    0.179           0.011   \n",
       "\n",
       "                       datadir  p_alpha  weight_scheme  sc  gamma  \n",
       "0  ../datasets/toy_data/C_0.5/     10.0             JW   C    0.5  \n",
       "1  ../datasets/toy_data/C_0.0/     10.0             JW   C    0.0  \n",
       "2  ../datasets/toy_data/A_0.0/     10.0             OW   A    0.0  \n",
       "3  ../datasets/toy_data/B_0.0/     10.0             OW   B    0.0  \n",
       "4  ../datasets/toy_data/B_0.0/     10.0      ParetoIPW   B    0.0  \n",
       "\n",
       "[5 rows x 34 columns]"
      ]
     },
     "execution_count": 19,
     "metadata": {},
     "output_type": "execute_result"
    }
   ],
   "source": [
    "train_df.head()"
   ]
  },
  {
   "cell_type": "code",
   "execution_count": 20,
   "metadata": {},
   "outputs": [],
   "source": [
    "#TODO: check above code for indexing errors (e.g. a lot of the row metric values are the same in the above cell)\n",
    "#TODO: make plots"
   ]
  },
  {
   "cell_type": "markdown",
   "metadata": {},
   "source": [
    "# Plots with fixed alpha"
   ]
  },
  {
   "cell_type": "markdown",
   "metadata": {},
   "source": [
    "TODO: \n",
    "- Think of what plots would be most informative here"
   ]
  },
  {
   "cell_type": "markdown",
   "metadata": {},
   "source": [
    "Notes:\n",
    "- alpha here is the \"strength\" of the IPM term in the loss\n",
    "- gamma controls level of overlap between treatment and control\n",
    "- scenarios (the variable sc) A,B,C control level of confounding"
   ]
  },
  {
   "cell_type": "code",
   "execution_count": 21,
   "metadata": {},
   "outputs": [
    {
     "data": {
      "text/plain": [
       "Text(0.5, 1.0, 'scenario:A, alpha=10.0')"
      ]
     },
     "execution_count": 21,
     "metadata": {},
     "output_type": "execute_result"
    },
    {
     "data": {
      "image/png": "[encoded data removed]",
      "text/plain": [
       "<Figure size 432x288 with 1 Axes>"
      ]
     },
     "metadata": {
      "needs_background": "light"
     },
     "output_type": "display_data"
    }
   ],
   "source": [
    "groups = test_df.groupby(['weight_scheme','sc','p_alpha'])\n",
    "sc = 'A'\n",
    "alpha = 10.00\n",
    "for weight_scheme in np.unique(test_df['weight_scheme']):\n",
    "    subdf = groups.get_group((weight_scheme,sc,alpha))\n",
    "    plt.scatter(subdf['gamma'],subdf['Pehe'])\n",
    "    plt.errorbar(subdf['gamma'],subdf['Pehe'],yerr=subdf['Pehe_stderr'],fmt='none')\n",
    "plt.legend(np.unique(test_df['weight_scheme']))\n",
    "plt.xlabel('gamma')\n",
    "plt.ylabel('pehe')\n",
    "plt.title('scenario:{}, alpha={}'.format(sc,alpha))"
   ]
  },
  {
   "cell_type": "code",
   "execution_count": 22,
   "metadata": {},
   "outputs": [
    {
     "data": {
      "text/plain": [
       "Text(0.5, 1.0, 'scenario:C, alpha=10.0')"
      ]
     },
     "execution_count": 22,
     "metadata": {},
     "output_type": "execute_result"
    },
    {
     "data": {
      "image/png": "[encoded data removed]",
      "text/plain": [
       "<Figure size 432x288 with 1 Axes>"
      ]
     },
     "metadata": {
      "needs_background": "light"
     },
     "output_type": "display_data"
    }
   ],
   "source": [
    "sc = 'C'\n",
    "alpha = 10.00\n",
    "for weight_scheme in np.unique(test_df['weight_scheme']):\n",
    "    subdf = groups.get_group((weight_scheme,sc,alpha))\n",
    "    plt.scatter(subdf['gamma'],subdf['Pehe'])\n",
    "    plt.errorbar(subdf['gamma'],subdf['Pehe'],yerr=subdf['Pehe_stderr'],fmt='none')\n",
    "plt.legend(np.unique(test_df['weight_scheme']))\n",
    "plt.xlabel('gamma')\n",
    "plt.ylabel('pehe')\n",
    "plt.title('scenario:{}, alpha={}'.format(sc,alpha))"
   ]
  },
  {
   "cell_type": "code",
   "execution_count": 26,
   "metadata": {},
   "outputs": [],
   "source": [
    "# Take the min over alpha of pehe for each weight scheme"
   ]
  },
  {
   "cell_type": "markdown",
   "metadata": {},
   "source": [
    "# Min plots"
   ]
  },
  {
   "cell_type": "code",
   "execution_count": 66,
   "metadata": {},
   "outputs": [],
   "source": [
    "def make_plot(sc,metric,df):\n",
    "    # Plot TruncIPW once fixed\n",
    "    groups = df.groupby(['weight_scheme','sc','gamma'])\n",
    "    for weight_scheme in np.unique(df['weight_scheme']):\n",
    "        if(weight_scheme=='TruncIPW'):\n",
    "            continue\n",
    "        all_vals = [groups.get_group((weight_scheme,sc,gamma))[metric] for gamma in np.unique(df['gamma'])]\n",
    "        all_errs = [groups.get_group((weight_scheme,sc,gamma))[metric+'_stderr'] for gamma in np.unique(df['gamma'])]\n",
    "        argmins = [np.argmin(all_vals[i]) for i in range(len(all_vals))]\n",
    "        mins = [all_vals[i][argmins[i]] for i in range(len(all_vals))]\n",
    "        errs = [all_errs[i][argmins[i]] for i in range(len(all_errs))]\n",
    "        plt.scatter(np.unique(df['gamma']),mins)\n",
    "        plt.errorbar(np.unique(df['gamma']),mins,yerr=errs,fmt='none')\n",
    "    weight_schemes = np.unique(df['weight_scheme'])\n",
    "    plt.legend(weight_schemes[weight_schemes!='TruncIPW'])\n",
    "    plt.xlabel('gamma')\n",
    "    plt.ylabel(metric)\n",
    "    plt.title('scenario:{}'.format(sc))"
   ]
  },
  {
   "cell_type": "code",
   "execution_count": 67,
   "metadata": {},
   "outputs": [
    {
     "data": {
      "image/png": "[encoded data removed]",
      "text/plain": [
       "<Figure size 1800x720 with 6 Axes>"
      ]
     },
     "metadata": {
      "needs_background": "light"
     },
     "output_type": "display_data"
    }
   ],
   "source": [
    "plt.figure(figsize=(25,10))\n",
    "i = 0\n",
    "for metric in ['Pehe','Bias_ate']:\n",
    "    for sc in ['A','B','C']:\n",
    "        plt.subplot(2,3,i+1)\n",
    "        make_plot(sc,metric,test_df)\n",
    "        i+=1"
   ]
  }
 ],
 "metadata": {
  "kernelspec": {
   "display_name": "Python 3",
   "language": "python",
   "name": "python3"
  },
  "language_info": {
   "codemirror_mode": {
    "name": "ipython",
    "version": 3
   },
   "file_extension": ".py",
   "mimetype": "text/x-python",
   "name": "python",
   "nbconvert_exporter": "python",
   "pygments_lexer": "ipython3",
   "version": "3.7.3"
  }
 },
 "nbformat": 4,
 "nbformat_minor": 2
}
